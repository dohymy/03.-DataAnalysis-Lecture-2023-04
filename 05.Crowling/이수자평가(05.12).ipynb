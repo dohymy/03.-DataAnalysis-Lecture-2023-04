{
 "cells": [
  {
   "cell_type": "code",
   "execution_count": 92,
   "metadata": {},
   "outputs": [],
   "source": [
    "import requests\n",
    "from urllib.parse import quote\n",
    "import pandas as pd\n",
    "from bs4 import BeautifulSoup"
   ]
  },
  {
   "cell_type": "code",
   "execution_count": 93,
   "metadata": {},
   "outputs": [],
   "source": [
    "url = 'https://www.melon.com/chart/'\n",
    "result = requests.get(url)\n",
    "header = {'User-Agent' : 'Mozilla/5.0 (Windows NT 10.0; Win64; x64) AppleWebKit/537.36 (KHTML, like Gecko) Chrome/112.0.0.0 Safari/537.36'}\n",
    "result = requests.get(url, headers=header)\n",
    "soup = BeautifulSoup(result.text, 'html.parser')"
   ]
  },
  {
   "cell_type": "code",
   "execution_count": 95,
   "metadata": {},
   "outputs": [
    {
     "data": {
      "text/plain": [
       "100"
      ]
     },
     "execution_count": 95,
     "metadata": {},
     "output_type": "execute_result"
    }
   ],
   "source": [
    "trs = soup.select('tbody > tr')\n",
    "len(trs)"
   ]
  },
  {
   "cell_type": "code",
   "execution_count": 96,
   "metadata": {},
   "outputs": [],
   "source": [
    "tr = trs[0]"
   ]
  },
  {
   "cell_type": "code",
   "execution_count": 97,
   "metadata": {},
   "outputs": [
    {
     "data": {
      "text/plain": [
       "'1'"
      ]
     },
     "execution_count": 97,
     "metadata": {},
     "output_type": "execute_result"
    }
   ],
   "source": [
    "rank = tr.select_one('.rank ').get_text().split('\\n')[0].strip()\n",
    "rank"
   ]
  },
  {
   "cell_type": "code",
   "execution_count": 99,
   "metadata": {},
   "outputs": [
    {
     "data": {
      "text/plain": [
       "'https://cdnimg.melon.co.kr/cm2/album/images/112/11/297/11211297_20230410151046_500.jpg/melon/resize/120/quality/80/optimize'"
      ]
     },
     "execution_count": 99,
     "metadata": {},
     "output_type": "execute_result"
    }
   ],
   "source": [
    "img = tr.select_one('.image_typeAll > img')['src']\n",
    "img"
   ]
  },
  {
   "cell_type": "code",
   "execution_count": 100,
   "metadata": {},
   "outputs": [
    {
     "data": {
      "text/plain": [
       "'I AM'"
      ]
     },
     "execution_count": 100,
     "metadata": {},
     "output_type": "execute_result"
    }
   ],
   "source": [
    "title = tr.select_one('.ellipsis.rank01').get_text().strip()\n",
    "title"
   ]
  },
  {
   "cell_type": "code",
   "execution_count": 102,
   "metadata": {},
   "outputs": [
    {
     "data": {
      "text/plain": [
       "'IVE (아이브)IVE (아이브)'"
      ]
     },
     "execution_count": 102,
     "metadata": {},
     "output_type": "execute_result"
    }
   ],
   "source": [
    "artist = tr.select_one('.ellipsis.rank02').get_text().strip()\n",
    "artist"
   ]
  },
  {
   "cell_type": "code",
   "execution_count": 104,
   "metadata": {},
   "outputs": [
    {
     "data": {
      "text/plain": [
       "\"I've IVE\""
      ]
     },
     "execution_count": 104,
     "metadata": {},
     "output_type": "execute_result"
    }
   ],
   "source": [
    "album = tr.select_one('.ellipsis.rank03').get_text().strip()\n",
    "album"
   ]
  },
  {
   "cell_type": "code",
   "execution_count": 106,
   "metadata": {},
   "outputs": [
    {
     "data": {
      "text/html": [
       "<div>\n",
       "<style scoped>\n",
       "    .dataframe tbody tr th:only-of-type {\n",
       "        vertical-align: middle;\n",
       "    }\n",
       "\n",
       "    .dataframe tbody tr th {\n",
       "        vertical-align: top;\n",
       "    }\n",
       "\n",
       "    .dataframe thead th {\n",
       "        text-align: right;\n",
       "    }\n",
       "</style>\n",
       "<table border=\"1\" class=\"dataframe\">\n",
       "  <thead>\n",
       "    <tr style=\"text-align: right;\">\n",
       "      <th></th>\n",
       "      <th>rank</th>\n",
       "      <th>img</th>\n",
       "      <th>title</th>\n",
       "      <th>artist</th>\n",
       "      <th>album</th>\n",
       "    </tr>\n",
       "  </thead>\n",
       "  <tbody>\n",
       "    <tr>\n",
       "      <th>95</th>\n",
       "      <td>96</td>\n",
       "      <td>https://cdnimg.melon.co.kr/cm2/album/images/11...</td>\n",
       "      <td>Salty &amp; Sweet</td>\n",
       "      <td>aespaaespa</td>\n",
       "      <td>MY WORLD - The 3rd Mini Album</td>\n",
       "    </tr>\n",
       "    <tr>\n",
       "      <th>96</th>\n",
       "      <td>97</td>\n",
       "      <td>https://cdnimg.melon.co.kr/cm2/album/images/11...</td>\n",
       "      <td>Cookie</td>\n",
       "      <td>NewJeansNewJeans</td>\n",
       "      <td>NewJeans 1st EP 'New Jeans'</td>\n",
       "    </tr>\n",
       "    <tr>\n",
       "      <th>97</th>\n",
       "      <td>98</td>\n",
       "      <td>https://cdnimg.melon.co.kr/cm2/album/images/11...</td>\n",
       "      <td>Zero</td>\n",
       "      <td>NewJeansNewJeans</td>\n",
       "      <td>Zero</td>\n",
       "    </tr>\n",
       "    <tr>\n",
       "      <th>98</th>\n",
       "      <td>99</td>\n",
       "      <td>https://cdnimg.melon.co.kr/cm2/album/images/11...</td>\n",
       "      <td>Welcome To MY World (Feat. nævis)</td>\n",
       "      <td>aespaaespa</td>\n",
       "      <td>MY WORLD - The 3rd Mini Album</td>\n",
       "    </tr>\n",
       "    <tr>\n",
       "      <th>99</th>\n",
       "      <td>100</td>\n",
       "      <td>https://cdnimg.melon.co.kr/cm2/album/images/11...</td>\n",
       "      <td>Dreamers [Music from the FIFA World Cup Qatar ...</td>\n",
       "      <td>정국, 방탄소년단정국, 방탄소년단</td>\n",
       "      <td>Dreamers [Music from the FIFA World Cup Qatar ...</td>\n",
       "    </tr>\n",
       "  </tbody>\n",
       "</table>\n",
       "</div>"
      ],
      "text/plain": [
       "   rank                                                img   \n",
       "95   96  https://cdnimg.melon.co.kr/cm2/album/images/11...  \\\n",
       "96   97  https://cdnimg.melon.co.kr/cm2/album/images/11...   \n",
       "97   98  https://cdnimg.melon.co.kr/cm2/album/images/11...   \n",
       "98   99  https://cdnimg.melon.co.kr/cm2/album/images/11...   \n",
       "99  100  https://cdnimg.melon.co.kr/cm2/album/images/11...   \n",
       "\n",
       "                                                title              artist   \n",
       "95                                      Salty & Sweet          aespaaespa  \\\n",
       "96                                             Cookie    NewJeansNewJeans   \n",
       "97                                               Zero    NewJeansNewJeans   \n",
       "98                  Welcome To MY World (Feat. nævis)          aespaaespa   \n",
       "99  Dreamers [Music from the FIFA World Cup Qatar ...  정국, 방탄소년단정국, 방탄소년단   \n",
       "\n",
       "                                                album  \n",
       "95                      MY WORLD - The 3rd Mini Album  \n",
       "96                        NewJeans 1st EP 'New Jeans'  \n",
       "97                                               Zero  \n",
       "98                      MY WORLD - The 3rd Mini Album  \n",
       "99  Dreamers [Music from the FIFA World Cup Qatar ...  "
      ]
     },
     "execution_count": 106,
     "metadata": {},
     "output_type": "execute_result"
    }
   ],
   "source": [
    "line = []\n",
    "for tr in trs:\n",
    "    rank = tr.select_one('.rank ').get_text().split('\\n')[0].strip()\n",
    "    img = tr.select_one('.image_typeAll > img')['src']\n",
    "    title = tr.select_one('.ellipsis.rank01').get_text().strip()\n",
    "    artist = tr.select_one('.ellipsis.rank02').get_text().strip()\n",
    "    album = tr.select_one('.ellipsis.rank03').get_text().strip()\n",
    "    line.append({'rank':rank, 'img':img, 'title':title, 'artist':artist, 'album':album})\n",
    "df1 = pd.DataFrame(line)\n",
    "df1.tail()"
   ]
  },
  {
   "cell_type": "code",
   "execution_count": 107,
   "metadata": {},
   "outputs": [],
   "source": [
    "from datetime import datetime\n",
    "now = datetime.now()\n",
    "ymd = now.strftime('%Y%M%d')\n",
    "hh = now.strftime('%H')"
   ]
  },
  {
   "cell_type": "code",
   "execution_count": 108,
   "metadata": {},
   "outputs": [],
   "source": [
    "df1.to_csv(f'data/멜론_{ymd}{hh}.csv', index=False)"
   ]
  },
  {
   "cell_type": "code",
   "execution_count": null,
   "metadata": {},
   "outputs": [],
   "source": []
  }
 ],
 "metadata": {
  "kernelspec": {
   "display_name": "base",
   "language": "python",
   "name": "python3"
  },
  "language_info": {
   "codemirror_mode": {
    "name": "ipython",
    "version": 3
   },
   "file_extension": ".py",
   "mimetype": "text/x-python",
   "name": "python",
   "nbconvert_exporter": "python",
   "pygments_lexer": "ipython3",
   "version": "3.10.10"
  },
  "orig_nbformat": 4
 },
 "nbformat": 4,
 "nbformat_minor": 2
}
