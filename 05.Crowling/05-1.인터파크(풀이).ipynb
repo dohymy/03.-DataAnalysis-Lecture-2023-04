{
 "cells": [
  {
   "attachments": {},
   "cell_type": "markdown",
   "metadata": {},
   "source": [
    "### 인터파크 - 베스트셀러"
   ]
  },
  {
   "cell_type": "code",
   "execution_count": 1,
   "metadata": {},
   "outputs": [],
   "source": [
    "import requests\n",
    "import pandas as pd\n",
    "from bs4 import BeautifulSoup"
   ]
  },
  {
   "attachments": {},
   "cell_type": "markdown",
   "metadata": {},
   "source": [
    "- Step 1"
   ]
  },
  {
   "cell_type": "code",
   "execution_count": 2,
   "metadata": {},
   "outputs": [],
   "source": [
    "# http://book.interpark.com/display/collectlist.do?_method=BestsellerHourNew201605&bestTp=1&dispNo=028\n",
    "url = 'http://book.interpark.com/display/collectlist.do?_method=BestsellerHourNew201605&bestTp=1&dispNo=028'\n",
    "res = requests.get(url)\n",
    "soup = BeautifulSoup(res.text)"
   ]
  },
  {
   "attachments": {},
   "cell_type": "markdown",
   "metadata": {},
   "source": [
    "- Step 2"
   ]
  },
  {
   "cell_type": "code",
   "execution_count": 3,
   "metadata": {},
   "outputs": [
    {
     "data": {
      "text/plain": [
       "15"
      ]
     },
     "execution_count": 3,
     "metadata": {},
     "output_type": "execute_result"
    }
   ],
   "source": [
    "lis = soup.select('.rankBestContentList > ol > li')\n",
    "len(lis)"
   ]
  },
  {
   "attachments": {},
   "cell_type": "markdown",
   "metadata": {},
   "source": [
    "- Step 3"
   ]
  },
  {
   "cell_type": "code",
   "execution_count": 4,
   "metadata": {},
   "outputs": [],
   "source": [
    "li = lis[0]"
   ]
  },
  {
   "attachments": {},
   "cell_type": "markdown",
   "metadata": {},
   "source": [
    "- rank\n",
    "    - rankBtn_ctrl rkNum_B01 (1 ~ 9위)\n",
    "    - rankBtn_ctrl rkNum_M01, rankBtn_ctrl rkNum_M03 (10 ~ 15위)"
   ]
  },
  {
   "cell_type": "code",
   "execution_count": 5,
   "metadata": {},
   "outputs": [
    {
     "data": {
      "text/plain": [
       "[<span class=\"rankBtn_ctrl rkNum_B01\"></span>]"
      ]
     },
     "execution_count": 5,
     "metadata": {},
     "output_type": "execute_result"
    }
   ],
   "source": [
    "li1, li13 = lis[0], lis[12]\n",
    "li1.select('.rankBtn_ctrl')"
   ]
  },
  {
   "cell_type": "code",
   "execution_count": 6,
   "metadata": {},
   "outputs": [
    {
     "data": {
      "text/plain": [
       "[<span class=\"rankBtn_ctrl rkNum_B09\"></span>]"
      ]
     },
     "execution_count": 6,
     "metadata": {},
     "output_type": "execute_result"
    }
   ],
   "source": [
    "li13.select('.rankBtn_ctrl')"
   ]
  },
  {
   "cell_type": "code",
   "execution_count": 7,
   "metadata": {},
   "outputs": [
    {
     "data": {
      "text/plain": [
       "['rankBtn_ctrl', 'rkNum_B01']"
      ]
     },
     "execution_count": 7,
     "metadata": {},
     "output_type": "execute_result"
    }
   ],
   "source": [
    "li1.select_one('.rankBtn_ctrl')['class']"
   ]
  },
  {
   "cell_type": "code",
   "execution_count": 8,
   "metadata": {},
   "outputs": [],
   "source": [
    "rank_data = li.select('.rankBtn_ctrl')\n",
    "if len(rank_data) == 1:\n",
    "    rank = int(rank_data[0]['class'][-1][-1])\n",
    "else:\n",
    "    rank = int(rank_data[0]['class'][-1][-1] + rank_data[1]['class'][-1][-1])"
   ]
  },
  {
   "cell_type": "code",
   "execution_count": 9,
   "metadata": {},
   "outputs": [
    {
     "data": {
      "text/plain": [
       "'세이노의 가르침'"
      ]
     },
     "execution_count": 9,
     "metadata": {},
     "output_type": "execute_result"
    }
   ],
   "source": [
    "# 제목\n",
    "title = li.select_one('.itemName').get_text().strip()\n",
    "title"
   ]
  },
  {
   "cell_type": "code",
   "execution_count": 10,
   "metadata": {},
   "outputs": [
    {
     "data": {
      "text/plain": [
       "'세이노'"
      ]
     },
     "execution_count": 10,
     "metadata": {},
     "output_type": "execute_result"
    }
   ],
   "source": [
    "# 저자\n",
    "author = li.select_one('.author').get_text().strip()\n",
    "author"
   ]
  },
  {
   "cell_type": "code",
   "execution_count": 11,
   "metadata": {},
   "outputs": [
    {
     "data": {
      "text/plain": [
       "'데이원'"
      ]
     },
     "execution_count": 11,
     "metadata": {},
     "output_type": "execute_result"
    }
   ],
   "source": [
    "# 출판사\n",
    "company = li.select_one('.company').get_text().strip()\n",
    "company"
   ]
  },
  {
   "cell_type": "code",
   "execution_count": 12,
   "metadata": {},
   "outputs": [
    {
     "data": {
      "text/plain": [
       "6480"
      ]
     },
     "execution_count": 12,
     "metadata": {},
     "output_type": "execute_result"
    }
   ],
   "source": [
    "# 가격\n",
    "price = li.select_one('.price > em').get_text().strip()\n",
    "price = int(price.replace(',',''))\n",
    "price"
   ]
  },
  {
   "attachments": {},
   "cell_type": "markdown",
   "metadata": {},
   "source": [
    "- Step 4"
   ]
  },
  {
   "cell_type": "code",
   "execution_count": 13,
   "metadata": {},
   "outputs": [],
   "source": [
    "lines = []\n",
    "for li in lis:\n",
    "    rank_data = li.select('.rankBtn_ctrl')\n",
    "    if len(rank_data) == 1:\n",
    "        rank = int(rank_data[0]['class'][-1][-1])\n",
    "    else:\n",
    "        rank = int(rank_data[0]['class'][-1][-1] + rank_data[1]['class'][-1][-1]) \n",
    "    title = li.select_one('.itemName').get_text().strip()\n",
    "    author = li.select_one('.author').get_text().strip()\n",
    "    company = li.select_one('.company').get_text().strip()\n",
    "    price = li.select_one('.price > em').get_text().strip()   \n",
    "    lines.append({'순위':rank, '제목':title, '저자':author, '출판사':company, '가격':price})"
   ]
  },
  {
   "cell_type": "code",
   "execution_count": 14,
   "metadata": {},
   "outputs": [
    {
     "data": {
      "text/html": [
       "<div>\n",
       "<style scoped>\n",
       "    .dataframe tbody tr th:only-of-type {\n",
       "        vertical-align: middle;\n",
       "    }\n",
       "\n",
       "    .dataframe tbody tr th {\n",
       "        vertical-align: top;\n",
       "    }\n",
       "\n",
       "    .dataframe thead th {\n",
       "        text-align: right;\n",
       "    }\n",
       "</style>\n",
       "<table border=\"1\" class=\"dataframe\">\n",
       "  <thead>\n",
       "    <tr style=\"text-align: right;\">\n",
       "      <th></th>\n",
       "      <th>순위</th>\n",
       "      <th>제목</th>\n",
       "      <th>저자</th>\n",
       "      <th>출판사</th>\n",
       "      <th>가격</th>\n",
       "    </tr>\n",
       "  </thead>\n",
       "  <tbody>\n",
       "    <tr>\n",
       "      <th>0</th>\n",
       "      <td>1</td>\n",
       "      <td>세이노의 가르침</td>\n",
       "      <td>세이노</td>\n",
       "      <td>데이원</td>\n",
       "      <td>6,480</td>\n",
       "    </tr>\n",
       "    <tr>\n",
       "      <th>1</th>\n",
       "      <td>2</td>\n",
       "      <td>모든 삶은 흐른다</td>\n",
       "      <td>로랑스 드빌레르/이주영 역</td>\n",
       "      <td>피카(FIKA)</td>\n",
       "      <td>15,120</td>\n",
       "    </tr>\n",
       "    <tr>\n",
       "      <th>2</th>\n",
       "      <td>3</td>\n",
       "      <td>사장학개론</td>\n",
       "      <td>김승호</td>\n",
       "      <td>스노우폭스북스</td>\n",
       "      <td>22,500</td>\n",
       "    </tr>\n",
       "    <tr>\n",
       "      <th>3</th>\n",
       "      <td>4</td>\n",
       "      <td>건강과 다이어트를 동시에 잡는 7대 3의 법칙 채소·과일식</td>\n",
       "      <td>조승우</td>\n",
       "      <td>바이북스</td>\n",
       "      <td>17,100</td>\n",
       "    </tr>\n",
       "    <tr>\n",
       "      <th>4</th>\n",
       "      <td>5</td>\n",
       "      <td>흔한남매 13</td>\n",
       "      <td>흔한남매, 백난도/유난희 그림/흔한컴퍼니 감수</td>\n",
       "      <td>미래엔아이세움</td>\n",
       "      <td>13,050</td>\n",
       "    </tr>\n",
       "    <tr>\n",
       "      <th>5</th>\n",
       "      <td>5</td>\n",
       "      <td>장하준의 경제학 레시피</td>\n",
       "      <td>장하준</td>\n",
       "      <td>부키</td>\n",
       "      <td>16,200</td>\n",
       "    </tr>\n",
       "    <tr>\n",
       "      <th>6</th>\n",
       "      <td>5</td>\n",
       "      <td>고래</td>\n",
       "      <td>천명관</td>\n",
       "      <td>문학동네</td>\n",
       "      <td>13,500</td>\n",
       "    </tr>\n",
       "    <tr>\n",
       "      <th>7</th>\n",
       "      <td>8</td>\n",
       "      <td>부자 아빠 가난한 아빠 1(20주년 특별 기념판)</td>\n",
       "      <td>로버트 기요사키/안진환 역</td>\n",
       "      <td>민음인</td>\n",
       "      <td>15,300</td>\n",
       "    </tr>\n",
       "    <tr>\n",
       "      <th>8</th>\n",
       "      <td>9</td>\n",
       "      <td>마법천자문 58: 온 정성과 힘을 다한다! 최선</td>\n",
       "      <td>유대영/정수영 그림/강용철 감수</td>\n",
       "      <td>아울북</td>\n",
       "      <td>12,600</td>\n",
       "    </tr>\n",
       "    <tr>\n",
       "      <th>9</th>\n",
       "      <td>9</td>\n",
       "      <td>나의 돈 많은 고등학교 친구</td>\n",
       "      <td>송희구</td>\n",
       "      <td>서삼독</td>\n",
       "      <td>16,200</td>\n",
       "    </tr>\n",
       "    <tr>\n",
       "      <th>10</th>\n",
       "      <td>9</td>\n",
       "      <td>요괴어사</td>\n",
       "      <td>설민석, 원더스</td>\n",
       "      <td>단꿈아이</td>\n",
       "      <td>16,200</td>\n",
       "    </tr>\n",
       "    <tr>\n",
       "      <th>11</th>\n",
       "      <td>9</td>\n",
       "      <td>처음 배우는 주식 차트</td>\n",
       "      <td>친절한 재승씨</td>\n",
       "      <td>알에이치코리아</td>\n",
       "      <td>34,200</td>\n",
       "    </tr>\n",
       "    <tr>\n",
       "      <th>12</th>\n",
       "      <td>9</td>\n",
       "      <td>호퍼 A-Z</td>\n",
       "      <td>얼프 퀴스터/박상미 역</td>\n",
       "      <td>한길사</td>\n",
       "      <td>19,800</td>\n",
       "    </tr>\n",
       "    <tr>\n",
       "      <th>13</th>\n",
       "      <td>9</td>\n",
       "      <td>비트코인, 그리고 달러의 지정학</td>\n",
       "      <td>오태민</td>\n",
       "      <td>거인의정원</td>\n",
       "      <td>49,500</td>\n",
       "    </tr>\n",
       "    <tr>\n",
       "      <th>14</th>\n",
       "      <td>9</td>\n",
       "      <td>만일 내가 인생을 다시 산다면(30만 부 기념 리커버 에디션)</td>\n",
       "      <td>김혜남</td>\n",
       "      <td>메이븐</td>\n",
       "      <td>15,480</td>\n",
       "    </tr>\n",
       "  </tbody>\n",
       "</table>\n",
       "</div>"
      ],
      "text/plain": [
       "    순위                                  제목                         저자   \n",
       "0    1                            세이노의 가르침                        세이노  \\\n",
       "1    2                           모든 삶은 흐른다             로랑스 드빌레르/이주영 역   \n",
       "2    3                               사장학개론                        김승호   \n",
       "3    4    건강과 다이어트를 동시에 잡는 7대 3의 법칙 채소·과일식                        조승우   \n",
       "4    5                             흔한남매 13  흔한남매, 백난도/유난희 그림/흔한컴퍼니 감수   \n",
       "5    5                        장하준의 경제학 레시피                        장하준   \n",
       "6    5                                  고래                        천명관   \n",
       "7    8         부자 아빠 가난한 아빠 1(20주년 특별 기념판)             로버트 기요사키/안진환 역   \n",
       "8    9          마법천자문 58: 온 정성과 힘을 다한다! 최선          유대영/정수영 그림/강용철 감수   \n",
       "9    9                     나의 돈 많은 고등학교 친구                        송희구   \n",
       "10   9                                요괴어사                   설민석, 원더스   \n",
       "11   9                        처음 배우는 주식 차트                    친절한 재승씨   \n",
       "12   9                              호퍼 A-Z               얼프 퀴스터/박상미 역   \n",
       "13   9                   비트코인, 그리고 달러의 지정학                        오태민   \n",
       "14   9  만일 내가 인생을 다시 산다면(30만 부 기념 리커버 에디션)                        김혜남   \n",
       "\n",
       "         출판사      가격  \n",
       "0        데이원   6,480  \n",
       "1   피카(FIKA)  15,120  \n",
       "2    스노우폭스북스  22,500  \n",
       "3       바이북스  17,100  \n",
       "4    미래엔아이세움  13,050  \n",
       "5         부키  16,200  \n",
       "6       문학동네  13,500  \n",
       "7        민음인  15,300  \n",
       "8        아울북  12,600  \n",
       "9        서삼독  16,200  \n",
       "10      단꿈아이  16,200  \n",
       "11   알에이치코리아  34,200  \n",
       "12       한길사  19,800  \n",
       "13     거인의정원  49,500  \n",
       "14       메이븐  15,480  "
      ]
     },
     "execution_count": 14,
     "metadata": {},
     "output_type": "execute_result"
    }
   ],
   "source": [
    "pd.DataFrame(lines)"
   ]
  },
  {
   "cell_type": "code",
   "execution_count": null,
   "metadata": {},
   "outputs": [],
   "source": []
  }
 ],
 "metadata": {
  "kernelspec": {
   "display_name": "base",
   "language": "python",
   "name": "python3"
  },
  "language_info": {
   "codemirror_mode": {
    "name": "ipython",
    "version": 3
   },
   "file_extension": ".py",
   "mimetype": "text/x-python",
   "name": "python",
   "nbconvert_exporter": "python",
   "pygments_lexer": "ipython3",
   "version": "3.10.10"
  },
  "orig_nbformat": 4
 },
 "nbformat": 4,
 "nbformat_minor": 2
}
