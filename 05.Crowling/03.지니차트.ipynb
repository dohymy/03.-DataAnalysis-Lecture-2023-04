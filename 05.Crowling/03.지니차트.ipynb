{
 "cells": [
  {
   "attachments": {},
   "cell_type": "markdown",
   "metadata": {},
   "source": [
    "### 지니차트 Top 200"
   ]
  },
  {
   "cell_type": "code",
   "execution_count": 86,
   "metadata": {},
   "outputs": [],
   "source": [
    "import requests\n",
    "from urllib.parse import quote\n",
    "import pandas as pd\n",
    "from bs4 import BeautifulSoup"
   ]
  },
  {
   "attachments": {},
   "cell_type": "markdown",
   "metadata": {},
   "source": [
    "- 1. 데이터 가져오기"
   ]
  },
  {
   "cell_type": "code",
   "execution_count": 87,
   "metadata": {},
   "outputs": [
    {
     "data": {
      "text/plain": [
       "'<br>\\r\\n<br>\\r\\n<center>\\r\\n<img src=\"http://www.geniemusic.co.kr/images/common/logo_r1.png\"><br>\\r\\n<h2> <meta http-equiv=\"Content-Type\" content=\"text/html;charset=UTF-8\"> ì\\xa0\\x91ì\\x86\\x8dì\\x9a\\x94ì²\\xadì\\x9d´ ë³´ì\\x95\\x88ì\\xa0\\x95ì±\\x85ì\\x97\\x90 ì\\x9d\\x98í\\x95´ ì°¨ë\\x8b¨ë\\x90\\x98ì\\x97\\x88ì\\x8aµë\\x8b\\x88ë\\x8b¤. ë\\x8b¹ì\\x82¬ ê³\\xa0ê°\\x9dì\\x84¼í\\x84°ë¡\\x9c ë¬¸ì\\x9d\\x98í\\x95´ì£¼ì\\x8b\\xadì\\x8b\\x9cì\\x98¤.<br><br>\\r\\nThe security policy of the connection request is blocked. Contact your customer service representative.<br><br>\\r\\nì§\\x80ë\\x8b\\x88ë®¤ì§\\x81 ê³\\xa0ê°\\x9dì\\x84¼í\\x84° 1577-5337<br><br>\\r\\n</h2>\\r\\n</center>\\r\\n<br>'"
      ]
     },
     "execution_count": 87,
     "metadata": {},
     "output_type": "execute_result"
    }
   ],
   "source": [
    "url = 'https://www.genie.co.kr/chart/top200'\n",
    "result = requests.get(url)\n",
    "result.text"
   ]
  },
  {
   "cell_type": "code",
   "execution_count": 88,
   "metadata": {},
   "outputs": [],
   "source": [
    "# Chrome User-Agent\n",
    "header = {'User-Agent' : 'Mozilla/5.0 (Windows NT 10.0; Win64; x64) AppleWebKit/537.36 (KHTML, like Gecko) Chrome/112.0.0.0 Safari/537.36'}\n",
    "result = requests.get(url, headers=header)\n",
    "soup = BeautifulSoup(result.text, 'html.parser')"
   ]
  },
  {
   "cell_type": "code",
   "execution_count": 89,
   "metadata": {},
   "outputs": [
    {
     "data": {
      "text/plain": [
       "50"
      ]
     },
     "execution_count": 89,
     "metadata": {},
     "output_type": "execute_result"
    }
   ],
   "source": [
    "trs = soup.select('tr.list')\n",
    "len(trs)"
   ]
  },
  {
   "cell_type": "code",
   "execution_count": 90,
   "metadata": {},
   "outputs": [
    {
     "data": {
      "text/plain": [
       "50"
      ]
     },
     "execution_count": 90,
     "metadata": {},
     "output_type": "execute_result"
    }
   ],
   "source": [
    "# 개발자 도구에서 찾는 법\n",
    "# #body-content > div.newest-list > div > table > tbody > tr:nth-child(1) > td.info\n",
    "trs = soup.select('#body-content > div.newest-list > div > table > tbody > tr')\n",
    "len(trs)"
   ]
  },
  {
   "attachments": {},
   "cell_type": "markdown",
   "metadata": {},
   "source": [
    "- 3. 하나를 선택해서 원하는 정보 추출"
   ]
  },
  {
   "cell_type": "code",
   "execution_count": 91,
   "metadata": {},
   "outputs": [],
   "source": [
    "tr = trs[0]"
   ]
  },
  {
   "cell_type": "code",
   "execution_count": 92,
   "metadata": {},
   "outputs": [
    {
     "data": {
      "text/plain": [
       "'1'"
      ]
     },
     "execution_count": 92,
     "metadata": {},
     "output_type": "execute_result"
    }
   ],
   "source": [
    "# rank\n",
    "rank = tr.select_one('.number').get_text().split('\\n')[0].strip()\n",
    "rank"
   ]
  },
  {
   "cell_type": "code",
   "execution_count": 93,
   "metadata": {},
   "outputs": [
    {
     "data": {
      "text/plain": [
       "'https://image.genie.co.kr/Y/IMAGE/IMG_ALBUM/083/665/559/83665559_1681116738103_1_140x140.JPG/dims/resize/Q_80,0'"
      ]
     },
     "execution_count": 93,
     "metadata": {},
     "output_type": "execute_result"
    }
   ],
   "source": [
    "# imp url\n",
    "img = 'https:' + tr.select_one('.cover > img')['src']\n",
    "img"
   ]
  },
  {
   "cell_type": "code",
   "execution_count": 94,
   "metadata": {},
   "outputs": [
    {
     "data": {
      "text/plain": [
       "'I AM'"
      ]
     },
     "execution_count": 94,
     "metadata": {},
     "output_type": "execute_result"
    }
   ],
   "source": [
    "title = tr.select_one('.title.ellipsis').get_text().strip()\n",
    "title"
   ]
  },
  {
   "cell_type": "code",
   "execution_count": 95,
   "metadata": {},
   "outputs": [
    {
     "data": {
      "text/plain": [
       "'I AM'"
      ]
     },
     "execution_count": 95,
     "metadata": {},
     "output_type": "execute_result"
    }
   ],
   "source": [
    "# 19금 노래 제목\n",
    "tr.select_one('.title.ellipsis').get_text().split('\\n')[-1].strip()"
   ]
  },
  {
   "cell_type": "code",
   "execution_count": 96,
   "metadata": {},
   "outputs": [],
   "source": [
    "# 위의 두 코드를 합치기\n",
    "# 방법 1)\n",
    "tr.select_one('.title.ellipsis').get_text().split('\\n')[-1].strip()\n",
    "# 방법 2)\n",
    "try:\n",
    "    title = title = tr.select_one('.title.ellipsis').get_text().strip()\n",
    "except:\n",
    "    tr.select_one('.title.ellipsis').get_text().split('\\n')[-1].strip()"
   ]
  },
  {
   "cell_type": "code",
   "execution_count": 97,
   "metadata": {},
   "outputs": [
    {
     "data": {
      "text/plain": [
       "'IVE (아이브)'"
      ]
     },
     "execution_count": 97,
     "metadata": {},
     "output_type": "execute_result"
    }
   ],
   "source": [
    "artist = tr.select_one('.artist.ellipsis').string.strip()\n",
    "artist"
   ]
  },
  {
   "cell_type": "code",
   "execution_count": 98,
   "metadata": {},
   "outputs": [
    {
     "data": {
      "text/plain": [
       "\"I've IVE\""
      ]
     },
     "execution_count": 98,
     "metadata": {},
     "output_type": "execute_result"
    }
   ],
   "source": [
    "album = tr.select_one('.albumtitle.ellipsis').string.strip()\n",
    "album"
   ]
  },
  {
   "attachments": {},
   "cell_type": "markdown",
   "metadata": {},
   "source": [
    "##### 4. 한 페이지 내 정보 가져오기"
   ]
  },
  {
   "cell_type": "code",
   "execution_count": 99,
   "metadata": {},
   "outputs": [
    {
     "data": {
      "text/html": [
       "<div>\n",
       "<style scoped>\n",
       "    .dataframe tbody tr th:only-of-type {\n",
       "        vertical-align: middle;\n",
       "    }\n",
       "\n",
       "    .dataframe tbody tr th {\n",
       "        vertical-align: top;\n",
       "    }\n",
       "\n",
       "    .dataframe thead th {\n",
       "        text-align: right;\n",
       "    }\n",
       "</style>\n",
       "<table border=\"1\" class=\"dataframe\">\n",
       "  <thead>\n",
       "    <tr style=\"text-align: right;\">\n",
       "      <th></th>\n",
       "      <th>rank</th>\n",
       "      <th>img</th>\n",
       "      <th>title</th>\n",
       "      <th>artist</th>\n",
       "      <th>album</th>\n",
       "    </tr>\n",
       "  </thead>\n",
       "  <tbody>\n",
       "    <tr>\n",
       "      <th>0</th>\n",
       "      <td>1</td>\n",
       "      <td>https://image.genie.co.kr/Y/IMAGE/IMG_ALBUM/08...</td>\n",
       "      <td>I AM</td>\n",
       "      <td>IVE (아이브)</td>\n",
       "      <td>I've IVE</td>\n",
       "    </tr>\n",
       "    <tr>\n",
       "      <th>1</th>\n",
       "      <td>2</td>\n",
       "      <td>https://image.genie.co.kr/Y/IMAGE/IMG_ALBUM/08...</td>\n",
       "      <td>Kitsch</td>\n",
       "      <td>IVE (아이브)</td>\n",
       "      <td>I've IVE</td>\n",
       "    </tr>\n",
       "    <tr>\n",
       "      <th>2</th>\n",
       "      <td>3</td>\n",
       "      <td>https://image.genie.co.kr/Y/IMAGE/IMG_ALBUM/08...</td>\n",
       "      <td>꽃</td>\n",
       "      <td>지수 (JISOO)</td>\n",
       "      <td>ME</td>\n",
       "    </tr>\n",
       "    <tr>\n",
       "      <th>3</th>\n",
       "      <td>4</td>\n",
       "      <td>https://image.genie.co.kr/Y/IMAGE/IMG_ALBUM/08...</td>\n",
       "      <td>Ditto</td>\n",
       "      <td>NewJeans</td>\n",
       "      <td>NewJeans 'OMG'</td>\n",
       "    </tr>\n",
       "    <tr>\n",
       "      <th>4</th>\n",
       "      <td>5</td>\n",
       "      <td>https://image.genie.co.kr/Y/IMAGE/IMG_ALBUM/08...</td>\n",
       "      <td>CHRISTIAN</td>\n",
       "      <td>Zior Park</td>\n",
       "      <td>WHERE DOES SASQUATCH LIVE? PART 1</td>\n",
       "    </tr>\n",
       "  </tbody>\n",
       "</table>\n",
       "</div>"
      ],
      "text/plain": [
       "  rank                                                img      title   \n",
       "0    1  https://image.genie.co.kr/Y/IMAGE/IMG_ALBUM/08...       I AM  \\\n",
       "1    2  https://image.genie.co.kr/Y/IMAGE/IMG_ALBUM/08...     Kitsch   \n",
       "2    3  https://image.genie.co.kr/Y/IMAGE/IMG_ALBUM/08...          꽃   \n",
       "3    4  https://image.genie.co.kr/Y/IMAGE/IMG_ALBUM/08...      Ditto   \n",
       "4    5  https://image.genie.co.kr/Y/IMAGE/IMG_ALBUM/08...  CHRISTIAN   \n",
       "\n",
       "       artist                              album  \n",
       "0   IVE (아이브)                           I've IVE  \n",
       "1   IVE (아이브)                           I've IVE  \n",
       "2  지수 (JISOO)                                 ME  \n",
       "3    NewJeans                     NewJeans 'OMG'  \n",
       "4   Zior Park  WHERE DOES SASQUATCH LIVE? PART 1  "
      ]
     },
     "execution_count": 99,
     "metadata": {},
     "output_type": "execute_result"
    }
   ],
   "source": [
    "# 방법 1) 딕셔너리의 리스트로 가져오기\n",
    "line = []\n",
    "for tr in trs:\n",
    "    rank = tr.select_one('.number').get_text().split('\\n')[0].strip()\n",
    "    img = 'https:' + tr.select_one('.cover > img')['src']\n",
    "    title = tr.select_one('.title.ellipsis').get_text().split('\\n')[-1].strip()\n",
    "    artist = tr.select_one('.artist.ellipsis').string.strip()\n",
    "    album = tr.select_one('.albumtitle.ellipsis').string.strip()\n",
    "    line.append({'rank':rank, 'img':img, 'title':title, 'artist':artist, 'album':album})\n",
    "df1 = pd.DataFrame(line)\n",
    "df1.head()"
   ]
  },
  {
   "cell_type": "code",
   "execution_count": 100,
   "metadata": {},
   "outputs": [
    {
     "ename": "SyntaxError",
     "evalue": "invalid syntax (1056916586.py, line 9)",
     "output_type": "error",
     "traceback": [
      "\u001b[1;36m  Cell \u001b[1;32mIn[100], line 9\u001b[1;36m\u001b[0m\n\u001b[1;33m    'rank': rank_list, 'img': img_list, 'title': title_list, 'artist': artist_list, 'album': album_list\u001b[0m\n\u001b[1;37m          ^\u001b[0m\n\u001b[1;31mSyntaxError\u001b[0m\u001b[1;31m:\u001b[0m invalid syntax\n"
     ]
    }
   ],
   "source": [
    "rank_list, img_list, title_list, artist_list, album_list = [], [], [], [], []\n",
    "for tr in trs:\n",
    "    rank_list.append(tr.select_one('.number').get_text().split('\\n')[0].strip())\n",
    "    img_list.append('https:' + tr.select_one('.cover > img')['src'])\n",
    "    title_list.append(tr.select_one('.title.ellipsis').get_text().split('\\n')[-1].strip())\n",
    "    artist_list.append(tr.select_one('.artist.ellipsis').string.strip())\n",
    "    album_list.append(tr.select_one('.albumtitle.ellipsis').string.strip())\n",
    "df2 = pd.DataFrame(\n",
    "    'rank': rank_list, 'img': img_list, 'title': title_list, 'artist': artist_list, 'album': album_list\n",
    ")\n",
    "df2.head()"
   ]
  },
  {
   "attachments": {},
   "cell_type": "markdown",
   "metadata": {},
   "source": [
    "- 5. 에러 처리"
   ]
  },
  {
   "attachments": {},
   "cell_type": "markdown",
   "metadata": {},
   "source": [
    "- 모든 페이지에 대해 처리"
   ]
  },
  {
   "cell_type": "code",
   "execution_count": null,
   "metadata": {},
   "outputs": [
    {
     "data": {
      "text/plain": [
       "datetime.datetime(2023, 4, 24, 15, 16, 9, 512962)"
      ]
     },
     "execution_count": 76,
     "metadata": {},
     "output_type": "execute_result"
    }
   ],
   "source": [
    "#https://www.genie.co.kr/chart/top200?ditc=D&ymd=20230424&hh=13&rtm=Y&pg=1\n",
    "from datetime import datetime\n",
    "now = datetime.now()\n",
    "now"
   ]
  },
  {
   "cell_type": "code",
   "execution_count": null,
   "metadata": {},
   "outputs": [
    {
     "data": {
      "text/plain": [
       "('20231624', '15')"
      ]
     },
     "execution_count": 77,
     "metadata": {},
     "output_type": "execute_result"
    }
   ],
   "source": [
    "ymd = now.strftime('%Y%M%d') # ymd = f'{now.year}{now.month:02d}{now.day:02d}'\n",
    "hh = now.strftime('%H')      # hh = f'{now.how:02d}'\n",
    "ymd, hh"
   ]
  },
  {
   "cell_type": "code",
   "execution_count": null,
   "metadata": {},
   "outputs": [
    {
     "name": "stderr",
     "output_type": "stream",
     "text": [
      "100%|██████████| 4/4 [00:03<00:00,  1.29it/s]\n"
     ]
    }
   ],
   "source": [
    "from tqdm import tqdm\n",
    "\n",
    "lines = []\n",
    "base_url = 'https://www.genie.co.kr/chart/top200?ditc=D'\n",
    "for page in tqdm(range(1,5)):\n",
    "    url = f'{base_url}&{ymd}&{hh}&pg={page}'\n",
    "    result = requests.get(url, headers=header)\n",
    "    soup = BeautifulSoup(result.text, 'html.parser')\n",
    "    trs = soup.select('tr.list')\n",
    "    for tr in trs:\n",
    "        rank = tr.select_one('.number').get_text().split('\\n')[0].strip()\n",
    "        img = 'https:' + tr.select_one('.cover > img')['src']\n",
    "        title = tr.select_one('.title.ellipsis').get_text().split('\\n')[-1].strip()\n",
    "        artist = tr.select_one('.artist.ellipsis').string.strip()\n",
    "        album = tr.select_one('.albumtitle.ellipsis').string.strip()\n",
    "        lines.append({'rank':rank, 'img':img, 'title':title, 'artist':artist, 'album':album})\n"
   ]
  },
  {
   "attachments": {},
   "cell_type": "markdown",
   "metadata": {},
   "source": [
    "- 7. 데이터프레임 만들기"
   ]
  },
  {
   "cell_type": "code",
   "execution_count": null,
   "metadata": {},
   "outputs": [
    {
     "data": {
      "text/html": [
       "<div>\n",
       "<style scoped>\n",
       "    .dataframe tbody tr th:only-of-type {\n",
       "        vertical-align: middle;\n",
       "    }\n",
       "\n",
       "    .dataframe tbody tr th {\n",
       "        vertical-align: top;\n",
       "    }\n",
       "\n",
       "    .dataframe thead th {\n",
       "        text-align: right;\n",
       "    }\n",
       "</style>\n",
       "<table border=\"1\" class=\"dataframe\">\n",
       "  <thead>\n",
       "    <tr style=\"text-align: right;\">\n",
       "      <th></th>\n",
       "      <th>rank</th>\n",
       "      <th>img</th>\n",
       "      <th>title</th>\n",
       "      <th>artist</th>\n",
       "      <th>album</th>\n",
       "    </tr>\n",
       "  </thead>\n",
       "  <tbody>\n",
       "    <tr>\n",
       "      <th>195</th>\n",
       "      <td>196</td>\n",
       "      <td>https://image.genie.co.kr/Y/IMAGE/IMG_ALBUM/08...</td>\n",
       "      <td>Dive</td>\n",
       "      <td>NCT 도재정</td>\n",
       "      <td>Perfume - The 1st Mini Album</td>\n",
       "    </tr>\n",
       "    <tr>\n",
       "      <th>196</th>\n",
       "      <td>197</td>\n",
       "      <td>https://image.genie.co.kr/Y/IMAGE/IMG_ALBUM/08...</td>\n",
       "      <td>너를 생각해</td>\n",
       "      <td>주시크 (Joosiq)</td>\n",
       "      <td>너를 생각해</td>\n",
       "    </tr>\n",
       "    <tr>\n",
       "      <th>197</th>\n",
       "      <td>198</td>\n",
       "      <td>https://image.genie.co.kr/Y/IMAGE/IMG_ALBUM/08...</td>\n",
       "      <td>언제나 사랑해</td>\n",
       "      <td>케이시 (Kassy)</td>\n",
       "      <td>조영수 리메이크 프로젝트 Part.2</td>\n",
       "    </tr>\n",
       "    <tr>\n",
       "      <th>198</th>\n",
       "      <td>199</td>\n",
       "      <td>https://image.genie.co.kr/Y/IMAGE/IMG_ALBUM/08...</td>\n",
       "      <td>시작</td>\n",
       "      <td>가호 (Gaho)</td>\n",
       "      <td>이태원 클라쓰 OST Part.2 (JTBC 금토드라마)</td>\n",
       "    </tr>\n",
       "    <tr>\n",
       "      <th>199</th>\n",
       "      <td>200</td>\n",
       "      <td>https://image.genie.co.kr/Y/IMAGE/IMG_ALBUM/08...</td>\n",
       "      <td>서랍</td>\n",
       "      <td>10CM</td>\n",
       "      <td>그 해 우리는 OST Part.1</td>\n",
       "    </tr>\n",
       "  </tbody>\n",
       "</table>\n",
       "</div>"
      ],
      "text/plain": [
       "    rank                                                img    title   \n",
       "195  196  https://image.genie.co.kr/Y/IMAGE/IMG_ALBUM/08...     Dive  \\\n",
       "196  197  https://image.genie.co.kr/Y/IMAGE/IMG_ALBUM/08...   너를 생각해   \n",
       "197  198  https://image.genie.co.kr/Y/IMAGE/IMG_ALBUM/08...  언제나 사랑해   \n",
       "198  199  https://image.genie.co.kr/Y/IMAGE/IMG_ALBUM/08...       시작   \n",
       "199  200  https://image.genie.co.kr/Y/IMAGE/IMG_ALBUM/08...       서랍   \n",
       "\n",
       "           artist                            album  \n",
       "195       NCT 도재정     Perfume - The 1st Mini Album  \n",
       "196  주시크 (Joosiq)                           너를 생각해  \n",
       "197   케이시 (Kassy)             조영수 리메이크 프로젝트 Part.2  \n",
       "198     가호 (Gaho)  이태원 클라쓰 OST Part.2 (JTBC 금토드라마)  \n",
       "199          10CM               그 해 우리는 OST Part.1  "
      ]
     },
     "execution_count": 84,
     "metadata": {},
     "output_type": "execute_result"
    }
   ],
   "source": [
    "df = pd.DataFrame(lines)\n",
    "df.tail()"
   ]
  },
  {
   "cell_type": "code",
   "execution_count": null,
   "metadata": {},
   "outputs": [],
   "source": [
    "df.to_csv(f'data/{ymd}{hh}_지니차트.csv', index=False)"
   ]
  },
  {
   "cell_type": "code",
   "execution_count": null,
   "metadata": {},
   "outputs": [],
   "source": []
  }
 ],
 "metadata": {
  "kernelspec": {
   "display_name": "base",
   "language": "python",
   "name": "python3"
  },
  "language_info": {
   "codemirror_mode": {
    "name": "ipython",
    "version": 3
   },
   "file_extension": ".py",
   "mimetype": "text/x-python",
   "name": "python",
   "nbconvert_exporter": "python",
   "pygments_lexer": "ipython3",
   "version": "3.10.10"
  },
  "orig_nbformat": 4
 },
 "nbformat": 4,
 "nbformat_minor": 2
}
