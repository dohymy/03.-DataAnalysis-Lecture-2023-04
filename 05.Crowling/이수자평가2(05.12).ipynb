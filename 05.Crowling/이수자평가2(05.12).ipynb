{
 "cells": [
  {
   "cell_type": "code",
   "execution_count": 8,
   "metadata": {},
   "outputs": [],
   "source": [
    "import requests\n",
    "from urllib.parse import quote\n",
    "import pandas as pd\n",
    "from bs4 import BeautifulSoup\n",
    "from selenium import webdriver\n",
    "import warnings\n",
    "warnings.filterwarnings('ignore')"
   ]
  },
  {
   "cell_type": "code",
   "execution_count": 9,
   "metadata": {},
   "outputs": [],
   "source": [
    "url ='https://youtube-rank.com/board/bbs/board.php?bo_table=youtube&sop=and&sst=subscriber_cnt&sod=desc&sfl=&stx=&sca=&page=1'\n",
    "res = requests.get(url)\n",
    "soup = BeautifulSoup(res.text)\n",
    "trs = soup.select('#list-skin > form:nth-child(4) > table > tbody > tr')"
   ]
  },
  {
   "cell_type": "code",
   "execution_count": 10,
   "metadata": {},
   "outputs": [
    {
     "data": {
      "text/plain": [
       "100"
      ]
     },
     "execution_count": 10,
     "metadata": {},
     "output_type": "execute_result"
    }
   ],
   "source": [
    "trs = soup.select('#list-skin > form:nth-child(4) > table > tbody > tr')\n",
    "len(trs)"
   ]
  },
  {
   "cell_type": "code",
   "execution_count": 11,
   "metadata": {},
   "outputs": [],
   "source": [
    "driver = webdriver.Chrome('C:/Users/YONSAI/Downloads/chromedriver.exe')\n",
    "driver.get(url)"
   ]
  },
  {
   "cell_type": "code",
   "execution_count": 12,
   "metadata": {},
   "outputs": [],
   "source": [
    "soup = BeautifulSoup(driver.page_source)\n",
    "trs = soup.select('.aos-init')\n",
    "tr = trs[0]"
   ]
  },
  {
   "cell_type": "code",
   "execution_count": 17,
   "metadata": {},
   "outputs": [
    {
     "data": {
      "text/html": [
       "<div>\n",
       "<style scoped>\n",
       "    .dataframe tbody tr th:only-of-type {\n",
       "        vertical-align: middle;\n",
       "    }\n",
       "\n",
       "    .dataframe tbody tr th {\n",
       "        vertical-align: top;\n",
       "    }\n",
       "\n",
       "    .dataframe thead th {\n",
       "        text-align: right;\n",
       "    }\n",
       "</style>\n",
       "<table border=\"1\" class=\"dataframe\">\n",
       "  <thead>\n",
       "    <tr style=\"text-align: right;\">\n",
       "      <th></th>\n",
       "      <th>순위</th>\n",
       "      <th>카테고리</th>\n",
       "      <th>채널명</th>\n",
       "      <th>구독자수</th>\n",
       "      <th>조회수</th>\n",
       "      <th>비디오</th>\n",
       "    </tr>\n",
       "  </thead>\n",
       "  <tbody>\n",
       "    <tr>\n",
       "      <th>93</th>\n",
       "      <td>94</td>\n",
       "      <td>음악/댄스/가수</td>\n",
       "      <td>ASTRO 아스트로</td>\n",
       "      <td>5130000</td>\n",
       "      <td>639100000</td>\n",
       "      <td>646</td>\n",
       "    </tr>\n",
       "    <tr>\n",
       "      <th>94</th>\n",
       "      <td>95</td>\n",
       "      <td>TV/방송</td>\n",
       "      <td>MBCdrama</td>\n",
       "      <td>4940000</td>\n",
       "      <td>5779930000</td>\n",
       "      <td>60148</td>\n",
       "    </tr>\n",
       "    <tr>\n",
       "      <th>95</th>\n",
       "      <td>96</td>\n",
       "      <td>키즈/어린이</td>\n",
       "      <td>뽀로로(Pororo)</td>\n",
       "      <td>4910000</td>\n",
       "      <td>6878710000</td>\n",
       "      <td>4182</td>\n",
       "    </tr>\n",
       "    <tr>\n",
       "      <th>96</th>\n",
       "      <td>97</td>\n",
       "      <td>음식/요리/레시피</td>\n",
       "      <td>떵개떵</td>\n",
       "      <td>4890000</td>\n",
       "      <td>2990060000</td>\n",
       "      <td>4924</td>\n",
       "    </tr>\n",
       "    <tr>\n",
       "      <th>97</th>\n",
       "      <td>98</td>\n",
       "      <td>키즈/어린이</td>\n",
       "      <td>ToyMart TV</td>\n",
       "      <td>4860000</td>\n",
       "      <td>1994040000</td>\n",
       "      <td>695</td>\n",
       "    </tr>\n",
       "    <tr>\n",
       "      <th>98</th>\n",
       "      <td>99</td>\n",
       "      <td>애완/반려동물</td>\n",
       "      <td>SBS TV동물농장x애니멀봐</td>\n",
       "      <td>4840000</td>\n",
       "      <td>4654750000</td>\n",
       "      <td>4200</td>\n",
       "    </tr>\n",
       "    <tr>\n",
       "      <th>99</th>\n",
       "      <td>101</td>\n",
       "      <td>미분류</td>\n",
       "      <td>매일맛나 delicious day</td>\n",
       "      <td>4780000</td>\n",
       "      <td>488910000</td>\n",
       "      <td>328</td>\n",
       "    </tr>\n",
       "  </tbody>\n",
       "</table>\n",
       "</div>"
      ],
      "text/plain": [
       "     순위       카테고리                 채널명     구독자수         조회수    비디오\n",
       "93   94   음악/댄스/가수          ASTRO 아스트로  5130000   639100000    646\n",
       "94   95      TV/방송            MBCdrama  4940000  5779930000  60148\n",
       "95   96     키즈/어린이         뽀로로(Pororo)  4910000  6878710000   4182\n",
       "96   97  음식/요리/레시피                 떵개떵  4890000  2990060000   4924\n",
       "97   98     키즈/어린이          ToyMart TV  4860000  1994040000    695\n",
       "98   99    애완/반려동물     SBS TV동물농장x애니멀봐  4840000  4654750000   4200\n",
       "99  101        미분류  매일맛나 delicious day  4780000   488910000    328"
      ]
     },
     "execution_count": 17,
     "metadata": {},
     "output_type": "execute_result"
    }
   ],
   "source": [
    "def convert(s):\n",
    "    s = s.replace('억','').replace('개','').replace(',','').replace('만','0000')\n",
    "    return int(s)\n",
    "\n",
    "lines = []\n",
    "for tr in trs:\n",
    "    rank = int(tr.select_one('.rank').get_text().strip())\n",
    "    category = tr.select_one('.category').get_text().strip()[1:-1]\n",
    "    channel = tr.select_one('.subject > h1 > a').get_text().strip()\n",
    "    subscriber_cnt = convert(tr.select_one('.subscriber_cnt').get_text().strip())\n",
    "    view_cnt = convert(tr.select_one('.view_cnt').get_text().strip())\n",
    "    video_cnt = convert(tr.select_one('.video_cnt').get_text().strip())\n",
    "    lines.append({\n",
    "        '순위': rank, '카테고리':category, '채널명': channel, '구독자수': subscriber_cnt, '조회수': view_cnt,\n",
    "        '비디오': video_cnt\n",
    "    })\n",
    "\n",
    "df1 = pd.DataFrame(lines)\n",
    "df1.tail(7)"
   ]
  },
  {
   "cell_type": "code",
   "execution_count": null,
   "metadata": {},
   "outputs": [],
   "source": [
    "import time\n",
    "lines = []\n",
    "driver = webdriver.Chrome('C:/Users/YONSAI/Downloads/chromedriver.exe')\n",
    "for page in range(1,11):\n",
    "    url = 'https://youtube-rank.com/board/bbs/board.php?bo_table=youtube&sop=and&sst=subscriber_cnt&sod=desc&sfl=&stx=&sca=&page=' + str(page)\n",
    "    driver.get(url)\n",
    "    time.sleep(2)\n",
    "    soup = BeautifulSoup(driver.page_source, 'html.parser')\n",
    "    trs = soup.select('.aos-init')\n",
    "    for tr in trs:\n",
    "        rank = int(tr.select_one('.rank').get_text().strip())\n",
    "        category = tr.select_one('.category').get_text().strip()[1:-1]\n",
    "        channel = tr.select_one('.subject > h1 > a').get_text().strip()\n",
    "        subscriber_cnt = convert(tr.select_one('.subscriber_cnt').get_text().strip())\n",
    "        view_cnt = convert(tr.select_one('.view_cnt').get_text().strip())\n",
    "        video_cnt = convert(tr.select_one('.video_cnt').get_text().strip())\n",
    "        lines.append({\n",
    "            '순위': rank, '카테고리':category, '채널명': channel, '구독자수': subscriber_cnt, '조회수': view_cnt,\n",
    "            '비디오': video_cnt\n",
    "        })\n",
    "driver.close()"
   ]
  },
  {
   "cell_type": "code",
   "execution_count": null,
   "metadata": {},
   "outputs": [
    {
     "data": {
      "text/plain": [
       "(1000, 6)"
      ]
     },
     "execution_count": 18,
     "metadata": {},
     "output_type": "execute_result"
    }
   ],
   "source": [
    "df = pd.DataFrame(lines)\n",
    "df.shape"
   ]
  },
  {
   "cell_type": "code",
   "execution_count": null,
   "metadata": {},
   "outputs": [
    {
     "data": {
      "text/html": [
       "<div>\n",
       "<style scoped>\n",
       "    .dataframe tbody tr th:only-of-type {\n",
       "        vertical-align: middle;\n",
       "    }\n",
       "\n",
       "    .dataframe tbody tr th {\n",
       "        vertical-align: top;\n",
       "    }\n",
       "\n",
       "    .dataframe thead th {\n",
       "        text-align: right;\n",
       "    }\n",
       "</style>\n",
       "<table border=\"1\" class=\"dataframe\">\n",
       "  <thead>\n",
       "    <tr style=\"text-align: right;\">\n",
       "      <th></th>\n",
       "      <th>순위</th>\n",
       "      <th>카테고리</th>\n",
       "      <th>채널명</th>\n",
       "      <th>구독자수</th>\n",
       "      <th>조회수</th>\n",
       "      <th>비디오</th>\n",
       "    </tr>\n",
       "  </thead>\n",
       "  <tbody>\n",
       "    <tr>\n",
       "      <th>995</th>\n",
       "      <td>996</td>\n",
       "      <td>취미/라이프</td>\n",
       "      <td>DanoTV</td>\n",
       "      <td>730000</td>\n",
       "      <td>158420000</td>\n",
       "      <td>642</td>\n",
       "    </tr>\n",
       "    <tr>\n",
       "      <th>996</th>\n",
       "      <td>997</td>\n",
       "      <td>키즈/어린이</td>\n",
       "      <td>코코몽 COCOMONG TV - Cartoon &amp; Song For Kids</td>\n",
       "      <td>730000</td>\n",
       "      <td>951630000</td>\n",
       "      <td>1420</td>\n",
       "    </tr>\n",
       "    <tr>\n",
       "      <th>997</th>\n",
       "      <td>998</td>\n",
       "      <td>음악/댄스/가수</td>\n",
       "      <td>Yuni Marimba 유니 마림바</td>\n",
       "      <td>730000</td>\n",
       "      <td>105130000</td>\n",
       "      <td>147</td>\n",
       "    </tr>\n",
       "    <tr>\n",
       "      <th>998</th>\n",
       "      <td>1001</td>\n",
       "      <td>미분류</td>\n",
       "      <td>김지윤의 지식Play</td>\n",
       "      <td>730000</td>\n",
       "      <td>59060000</td>\n",
       "      <td>186</td>\n",
       "    </tr>\n",
       "    <tr>\n",
       "      <th>999</th>\n",
       "      <td>1000</td>\n",
       "      <td>미분류</td>\n",
       "      <td>성창경TV</td>\n",
       "      <td>730000</td>\n",
       "      <td>1036110000</td>\n",
       "      <td>16348</td>\n",
       "    </tr>\n",
       "  </tbody>\n",
       "</table>\n",
       "</div>"
      ],
      "text/plain": [
       "       순위      카테고리                                        채널명    구독자수   \n",
       "995   996    취미/라이프                                     DanoTV  730000  \\\n",
       "996   997    키즈/어린이  코코몽 COCOMONG TV - Cartoon & Song For Kids  730000   \n",
       "997   998  음악/댄스/가수                        Yuni Marimba 유니 마림바  730000   \n",
       "998  1001       미분류                                김지윤의 지식Play  730000   \n",
       "999  1000       미분류                                      성창경TV  730000   \n",
       "\n",
       "            조회수    비디오  \n",
       "995   158420000    642  \n",
       "996   951630000   1420  \n",
       "997   105130000    147  \n",
       "998    59060000    186  \n",
       "999  1036110000  16348  "
      ]
     },
     "execution_count": 19,
     "metadata": {},
     "output_type": "execute_result"
    }
   ],
   "source": [
    "df.tail()"
   ]
  },
  {
   "cell_type": "code",
   "execution_count": 19,
   "metadata": {},
   "outputs": [
    {
     "data": {
      "text/html": [
       "<div>\n",
       "<style scoped>\n",
       "    .dataframe tbody tr th:only-of-type {\n",
       "        vertical-align: middle;\n",
       "    }\n",
       "\n",
       "    .dataframe tbody tr th {\n",
       "        vertical-align: top;\n",
       "    }\n",
       "\n",
       "    .dataframe thead th {\n",
       "        text-align: right;\n",
       "    }\n",
       "</style>\n",
       "<table border=\"1\" class=\"dataframe\">\n",
       "  <thead>\n",
       "    <tr style=\"text-align: right;\">\n",
       "      <th></th>\n",
       "      <th>순위</th>\n",
       "      <th>카테고리</th>\n",
       "      <th>채널명</th>\n",
       "      <th>구독자수</th>\n",
       "      <th>조회수</th>\n",
       "      <th>비디오</th>\n",
       "    </tr>\n",
       "  </thead>\n",
       "  <tbody>\n",
       "    <tr>\n",
       "      <th>13</th>\n",
       "      <td>13</td>\n",
       "      <td>음악/댄스/가수</td>\n",
       "      <td>JFlaMusic</td>\n",
       "      <td>17600000</td>\n",
       "      <td>3786310000</td>\n",
       "      <td>317</td>\n",
       "    </tr>\n",
       "    <tr>\n",
       "      <th>14</th>\n",
       "      <td>15</td>\n",
       "      <td>음악/댄스/가수</td>\n",
       "      <td>TWICE</td>\n",
       "      <td>15800000</td>\n",
       "      <td>4860220000</td>\n",
       "      <td>1092</td>\n",
       "    </tr>\n",
       "    <tr>\n",
       "      <th>15</th>\n",
       "      <td>16</td>\n",
       "      <td>음악/댄스/가수</td>\n",
       "      <td>BIGBANG</td>\n",
       "      <td>15000000</td>\n",
       "      <td>7753850000</td>\n",
       "      <td>776</td>\n",
       "    </tr>\n",
       "    <tr>\n",
       "      <th>16</th>\n",
       "      <td>17</td>\n",
       "      <td>음식/요리/레시피</td>\n",
       "      <td>Hongyu ASMR 홍유</td>\n",
       "      <td>14900000</td>\n",
       "      <td>4979120000</td>\n",
       "      <td>632</td>\n",
       "    </tr>\n",
       "    <tr>\n",
       "      <th>17</th>\n",
       "      <td>18</td>\n",
       "      <td>키즈/어린이</td>\n",
       "      <td>Boram Tube ToysReview [보람튜브 토이리뷰]</td>\n",
       "      <td>14600000</td>\n",
       "      <td>5006380000</td>\n",
       "      <td>607</td>\n",
       "    </tr>\n",
       "    <tr>\n",
       "      <th>18</th>\n",
       "      <td>19</td>\n",
       "      <td>키즈/어린이</td>\n",
       "      <td>서은일상이야기</td>\n",
       "      <td>14000000</td>\n",
       "      <td>2574480000</td>\n",
       "      <td>696</td>\n",
       "    </tr>\n",
       "    <tr>\n",
       "      <th>19</th>\n",
       "      <td>20</td>\n",
       "      <td>키즈/어린이</td>\n",
       "      <td>BIBO와 장난감</td>\n",
       "      <td>12900000</td>\n",
       "      <td>3166790000</td>\n",
       "      <td>183</td>\n",
       "    </tr>\n",
       "  </tbody>\n",
       "</table>\n",
       "</div>"
      ],
      "text/plain": [
       "    순위       카테고리                                채널명      구독자수         조회수   \n",
       "13  13   음악/댄스/가수                          JFlaMusic  17600000  3786310000  \\\n",
       "14  15   음악/댄스/가수                              TWICE  15800000  4860220000   \n",
       "15  16   음악/댄스/가수                            BIGBANG  15000000  7753850000   \n",
       "16  17  음식/요리/레시피                     Hongyu ASMR 홍유  14900000  4979120000   \n",
       "17  18     키즈/어린이  Boram Tube ToysReview [보람튜브 토이리뷰]  14600000  5006380000   \n",
       "18  19     키즈/어린이                            서은일상이야기  14000000  2574480000   \n",
       "19  20     키즈/어린이                          BIBO와 장난감  12900000  3166790000   \n",
       "\n",
       "     비디오  \n",
       "13   317  \n",
       "14  1092  \n",
       "15   776  \n",
       "16   632  \n",
       "17   607  \n",
       "18   696  \n",
       "19   183  "
      ]
     },
     "execution_count": 19,
     "metadata": {},
     "output_type": "execute_result"
    }
   ],
   "source": [
    "lines = []\n",
    "for tr in trs:\n",
    "    rank = int(tr.select_one('.rank').get_text().strip())\n",
    "    category = tr.select_one('.category').get_text().strip()[1:-1]\n",
    "    channel = tr.select_one('.subject > h1 > a').get_text().strip()\n",
    "    subscriber_cnt = convert(tr.select_one('.subscriber_cnt').get_text().strip())\n",
    "    view_cnt = convert(tr.select_one('.view_cnt').get_text().strip())\n",
    "    video_cnt = convert(tr.select_one('.video_cnt').get_text().strip())\n",
    "    if rank <= 20:\n",
    "        lines.append({\n",
    "            '순위': rank, '카테고리':category, '채널명': channel, '구독자수': subscriber_cnt, '조회수': view_cnt,\n",
    "            '비디오': video_cnt\n",
    "    })\n",
    "\n",
    "df1 = pd.DataFrame(lines)\n",
    "df1.tail(7)"
   ]
  },
  {
   "cell_type": "code",
   "execution_count": 20,
   "metadata": {},
   "outputs": [
    {
     "data": {
      "text/plain": [
       "68"
      ]
     },
     "execution_count": 20,
     "metadata": {},
     "output_type": "execute_result"
    }
   ],
   "source": [
    "url = 'https://youtube-rank.com/board/bbs/board.php?bo_table=youtube'\n",
    "res = requests.get(url)\n",
    "soup = BeautifulSoup(res.text, 'html.parser')\n",
    "lis = soup.select('ul > li')\n",
    "len(lis)"
   ]
  },
  {
   "cell_type": "code",
   "execution_count": 26,
   "metadata": {},
   "outputs": [
    {
     "data": {
      "text/plain": [
       "('', '#')"
      ]
     },
     "execution_count": 26,
     "metadata": {},
     "output_type": "execute_result"
    }
   ],
   "source": [
    "li = lis[0]\n",
    "name = li.find('a').get_text().strip()\n",
    "href = li.find('a')['href']\n",
    "name, href"
   ]
  },
  {
   "cell_type": "code",
   "execution_count": null,
   "metadata": {},
   "outputs": [],
   "source": []
  }
 ],
 "metadata": {
  "kernelspec": {
   "display_name": "base",
   "language": "python",
   "name": "python3"
  },
  "language_info": {
   "codemirror_mode": {
    "name": "ipython",
    "version": 3
   },
   "file_extension": ".py",
   "mimetype": "text/x-python",
   "name": "python",
   "nbconvert_exporter": "python",
   "pygments_lexer": "ipython3",
   "version": "3.10.10"
  },
  "orig_nbformat": 4
 },
 "nbformat": 4,
 "nbformat_minor": 2
}
