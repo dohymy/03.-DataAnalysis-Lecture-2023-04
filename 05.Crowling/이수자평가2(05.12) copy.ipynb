{
 "cells": [
  {
   "cell_type": "code",
   "execution_count": 10,
   "metadata": {},
   "outputs": [],
   "source": [
    "import requests\n",
    "from urllib.parse import quote\n",
    "import pandas as pd\n",
    "from bs4 import BeautifulSoup\n",
    "from selenium import webdriver\n",
    "import warnings\n",
    "warnings.filterwarnings('ignore')"
   ]
  },
  {
   "cell_type": "code",
   "execution_count": 11,
   "metadata": {},
   "outputs": [],
   "source": [
    "url ='https://youtube-rank.com/board/bbs/board.php?bo_table=youtube&sop=and&sst=subscriber_cnt&sod=desc&sfl=&stx=&sca=&page=1'\n",
    "res = requests.get(url)\n",
    "soup = BeautifulSoup(res.text)\n",
    "trs = soup.select('#list-skin > form:nth-child(4) > table > tbody > tr')"
   ]
  },
  {
   "cell_type": "code",
   "execution_count": 12,
   "metadata": {},
   "outputs": [
    {
     "data": {
      "text/plain": [
       "100"
      ]
     },
     "execution_count": 12,
     "metadata": {},
     "output_type": "execute_result"
    }
   ],
   "source": [
    "trs = soup.select('#list-skin > form:nth-child(4) > table > tbody > tr')\n",
    "len(trs)"
   ]
  },
  {
   "cell_type": "code",
   "execution_count": 13,
   "metadata": {},
   "outputs": [],
   "source": [
    "driver = webdriver.Chrome('C:/Users/YONSAI/Downloads/chromedriver.exe')\n",
    "driver.get(url)"
   ]
  },
  {
   "cell_type": "code",
   "execution_count": 14,
   "metadata": {},
   "outputs": [],
   "source": [
    "soup = BeautifulSoup(driver.page_source)\n",
    "trs = soup.select('.aos-init')\n",
    "tr = trs[0]"
   ]
  },
  {
   "cell_type": "code",
   "execution_count": 15,
   "metadata": {},
   "outputs": [],
   "source": [
    "def convert(s):\n",
    "    s = s.replace('억','').replace('개','').replace(',','').replace('만','0000')\n",
    "    return int(s)"
   ]
  },
  {
   "cell_type": "code",
   "execution_count": 16,
   "metadata": {},
   "outputs": [],
   "source": [
    "import time\n",
    "lines = []\n",
    "for page in range(1,11):\n",
    "    url = 'https://youtube-rank.com/board/bbs/board.php?bo_table=youtube&sop=and&sst=subscriber_cnt&sod=desc&sfl=&stx=&sca=&page=' + str(page)\n",
    "    driver.get(url)\n",
    "    time.sleep(2)\n",
    "    soup = BeautifulSoup(driver.page_source, 'html.parser')\n",
    "    trs = soup.select('.aos-init')\n",
    "    for tr in trs:\n",
    "        rank = int(tr.select_one('.rank').get_text().strip())\n",
    "        category = tr.select_one('.category').get_text().strip()[1:-1]\n",
    "        channel = tr.select_one('.subject > h1 > a').get_text().strip()\n",
    "        subscriber_cnt = convert(tr.select_one('.subscriber_cnt').get_text().strip())\n",
    "        view_cnt = convert(tr.select_one('.view_cnt').get_text().strip())\n",
    "        video_cnt = convert(tr.select_one('.video_cnt').get_text().strip())\n",
    "        lines.append({\n",
    "            '순위': rank, '카테고리':category, '채널명': channel, '구독자수': subscriber_cnt, '조회수': view_cnt,\n",
    "            '비디오': video_cnt\n",
    "        })\n",
    "driver.close()"
   ]
  },
  {
   "cell_type": "code",
   "execution_count": 17,
   "metadata": {},
   "outputs": [
    {
     "data": {
      "text/plain": [
       "(1000, 6)"
      ]
     },
     "execution_count": 17,
     "metadata": {},
     "output_type": "execute_result"
    }
   ],
   "source": [
    "df = pd.DataFrame(lines)\n",
    "df.shape"
   ]
  },
  {
   "cell_type": "code",
   "execution_count": 18,
   "metadata": {},
   "outputs": [
    {
     "data": {
      "text/html": [
       "<div>\n",
       "<style scoped>\n",
       "    .dataframe tbody tr th:only-of-type {\n",
       "        vertical-align: middle;\n",
       "    }\n",
       "\n",
       "    .dataframe tbody tr th {\n",
       "        vertical-align: top;\n",
       "    }\n",
       "\n",
       "    .dataframe thead th {\n",
       "        text-align: right;\n",
       "    }\n",
       "</style>\n",
       "<table border=\"1\" class=\"dataframe\">\n",
       "  <thead>\n",
       "    <tr style=\"text-align: right;\">\n",
       "      <th></th>\n",
       "      <th>순위</th>\n",
       "      <th>카테고리</th>\n",
       "      <th>채널명</th>\n",
       "      <th>구독자수</th>\n",
       "      <th>조회수</th>\n",
       "      <th>비디오</th>\n",
       "    </tr>\n",
       "  </thead>\n",
       "  <tbody>\n",
       "    <tr>\n",
       "      <th>995</th>\n",
       "      <td>996</td>\n",
       "      <td>취미/라이프</td>\n",
       "      <td>DanoTV</td>\n",
       "      <td>730000</td>\n",
       "      <td>158420000</td>\n",
       "      <td>642</td>\n",
       "    </tr>\n",
       "    <tr>\n",
       "      <th>996</th>\n",
       "      <td>997</td>\n",
       "      <td>키즈/어린이</td>\n",
       "      <td>코코몽 COCOMONG TV - Cartoon &amp; Song For Kids</td>\n",
       "      <td>730000</td>\n",
       "      <td>951630000</td>\n",
       "      <td>1420</td>\n",
       "    </tr>\n",
       "    <tr>\n",
       "      <th>997</th>\n",
       "      <td>998</td>\n",
       "      <td>음악/댄스/가수</td>\n",
       "      <td>Yuni Marimba 유니 마림바</td>\n",
       "      <td>730000</td>\n",
       "      <td>105130000</td>\n",
       "      <td>147</td>\n",
       "    </tr>\n",
       "    <tr>\n",
       "      <th>998</th>\n",
       "      <td>1001</td>\n",
       "      <td>미분류</td>\n",
       "      <td>김지윤의 지식Play</td>\n",
       "      <td>730000</td>\n",
       "      <td>59060000</td>\n",
       "      <td>186</td>\n",
       "    </tr>\n",
       "    <tr>\n",
       "      <th>999</th>\n",
       "      <td>1000</td>\n",
       "      <td>미분류</td>\n",
       "      <td>성창경TV</td>\n",
       "      <td>730000</td>\n",
       "      <td>1036110000</td>\n",
       "      <td>16348</td>\n",
       "    </tr>\n",
       "  </tbody>\n",
       "</table>\n",
       "</div>"
      ],
      "text/plain": [
       "       순위      카테고리                                        채널명    구독자수   \n",
       "995   996    취미/라이프                                     DanoTV  730000  \\\n",
       "996   997    키즈/어린이  코코몽 COCOMONG TV - Cartoon & Song For Kids  730000   \n",
       "997   998  음악/댄스/가수                        Yuni Marimba 유니 마림바  730000   \n",
       "998  1001       미분류                                김지윤의 지식Play  730000   \n",
       "999  1000       미분류                                      성창경TV  730000   \n",
       "\n",
       "            조회수    비디오  \n",
       "995   158420000    642  \n",
       "996   951630000   1420  \n",
       "997   105130000    147  \n",
       "998    59060000    186  \n",
       "999  1036110000  16348  "
      ]
     },
     "execution_count": 18,
     "metadata": {},
     "output_type": "execute_result"
    }
   ],
   "source": [
    "df.tail()"
   ]
  },
  {
   "cell_type": "code",
   "execution_count": null,
   "metadata": {},
   "outputs": [],
   "source": []
  }
 ],
 "metadata": {
  "kernelspec": {
   "display_name": "base",
   "language": "python",
   "name": "python3"
  },
  "language_info": {
   "codemirror_mode": {
    "name": "ipython",
    "version": 3
   },
   "file_extension": ".py",
   "mimetype": "text/x-python",
   "name": "python",
   "nbconvert_exporter": "python",
   "pygments_lexer": "ipython3",
   "version": "3.10.10"
  },
  "orig_nbformat": 4
 },
 "nbformat": 4,
 "nbformat_minor": 2
}
